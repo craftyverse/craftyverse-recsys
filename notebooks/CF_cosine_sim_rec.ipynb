{
 "cells": [
  {
   "cell_type": "code",
   "execution_count": 2,
   "id": "c047efaa",
   "metadata": {},
   "outputs": [
    {
     "name": "stdout",
     "output_type": "stream",
     "text": [
      "No recsys modules found to reload\n"
     ]
    }
   ],
   "source": [
    "# Use this cell when you modify the recsys package and need to reload it\n",
    "import importlib\n",
    "import sys\n",
    "\n",
    "# Reload the recsys modules\n",
    "modules_to_reload = []\n",
    "for module_name in sys.modules.keys():\n",
    "    if module_name.startswith('recsys'):\n",
    "        modules_to_reload.append(module_name)\n",
    "\n",
    "if modules_to_reload:\n",
    "    # Reload in reverse order to handle dependencies\n",
    "    for module_name in reversed(sorted(modules_to_reload)):\n",
    "        importlib.reload(sys.modules[module_name])\n",
    "    print(f\"Reloaded modules: {modules_to_reload}\")\n",
    "else:\n",
    "    print(\"No recsys modules found to reload\")"
   ]
  },
  {
   "cell_type": "markdown",
   "id": "61c05d4f",
   "metadata": {},
   "source": [
    "# Collaborative Filtering using Cosine similarity\n"
   ]
  },
  {
   "cell_type": "markdown",
   "id": "241fc903",
   "metadata": {},
   "source": [
    "# Importing required packages\n",
    "We start off by defining our root project entry point"
   ]
  },
  {
   "cell_type": "code",
   "execution_count": 3,
   "id": "826e9751",
   "metadata": {},
   "outputs": [],
   "source": [
    "import sys\n",
    "from pathlib import Path\n",
    "project_root = Path(\"..\").resolve()\n",
    "if str(project_root / \"src\") not in sys.path:\n",
    "    sys.path.append(str(project_root / \"src\"))"
   ]
  },
  {
   "cell_type": "markdown",
   "id": "996531e2",
   "metadata": {},
   "source": [
    "This next code snippet unzips the .zip file in \"data/raw\" and saves it in \"data/processed\" folders respectively"
   ]
  },
  {
   "cell_type": "code",
   "execution_count": 4,
   "id": "4c73679b",
   "metadata": {},
   "outputs": [
    {
     "data": {
      "text/plain": [
       "PosixPath('/Users/tonyli/Documents/Projects/craftyverse/craftyverse-recsys/data/processed')"
      ]
     },
     "execution_count": 4,
     "metadata": {},
     "output_type": "execute_result"
    }
   ],
   "source": [
    "from recsys.utils import unzip_file\n",
    "zip_path = project_root / \"data\" / \"raw\" / \"ml-latest.zip\"\n",
    "destination = project_root / \"data\" / \"processed\"\n",
    "\n",
    "unzip_file(zip_path, destination, overwrite=True)"
   ]
  },
  {
   "cell_type": "code",
   "execution_count": 5,
   "id": "1f58218a",
   "metadata": {},
   "outputs": [
    {
     "name": "stdout",
     "output_type": "stream",
     "text": [
      "   userId  movieId  rating   timestamp\n",
      "0       1        1     4.0  1225734739\n",
      "1       1      110     4.0  1225865086\n",
      "2       1      158     4.0  1225733503\n",
      "3       1      260     4.5  1225735204\n",
      "4       1      356     5.0  1225735119\n"
     ]
    }
   ],
   "source": [
    "\n",
    "from recsys.utils import read_csv\n",
    "csv_path = project_root / \"data\" /\"processed\" / \"ml-latest\" / \"ratings.csv\"\n",
    "\n",
    "ratings_df = read_csv(csv_path)\n",
    "print(ratings_df.head())\n",
    "\n"
   ]
  },
  {
   "cell_type": "code",
   "execution_count": 6,
   "id": "8e076b77",
   "metadata": {},
   "outputs": [
    {
     "name": "stdout",
     "output_type": "stream",
     "text": [
      "Dataset shape: (33832162, 4)\n",
      "Number of unique users: 330975\n",
      "Number of unique movies: 83239\n",
      "Potential matrix size: 27,550,028,025 cells\n",
      "Data sparsity: 0.12%\n"
     ]
    }
   ],
   "source": [
    "# Let's examine the data size first\n",
    "print(f\"Dataset shape: {ratings_df.shape}\")\n",
    "print(f\"Number of unique users: {ratings_df['userId'].nunique()}\")\n",
    "print(f\"Number of unique movies: {ratings_df['movieId'].nunique()}\")\n",
    "print(f\"Potential matrix size: {ratings_df['userId'].nunique() * ratings_df['movieId'].nunique():,} cells\")\n",
    "print(f\"Data sparsity: {len(ratings_df) / (ratings_df['userId'].nunique() * ratings_df['movieId'].nunique()) * 100:.2f}%\")"
   ]
  },
  {
   "cell_type": "code",
   "execution_count": 7,
   "id": "0058cb17",
   "metadata": {},
   "outputs": [
    {
     "name": "stdout",
     "output_type": "stream",
     "text": [
      "Original dataset: 33,832,162 ratings\n",
      "Subset dataset: 15,600,006 ratings\n",
      "Subset users: 22000\n",
      "Subset movies: 22000\n",
      "Subset matrix size: 484,000,000 cells\n"
     ]
    }
   ],
   "source": [
    "# Create a smaller subset for testing - top N users and movies by rating count\n",
    "top_n = 22000  # Use the first 12000 users and movies as training subset\n",
    "\n",
    "# Get top users by number of ratings\n",
    "top_users = ratings_df['userId'].value_counts().head(top_n).index\n",
    "# Get top movies by number of ratings  \n",
    "top_movies = ratings_df['movieId'].value_counts().head(top_n).index\n",
    "\n",
    "# Filter the dataset to only include top users and movies\n",
    "ratings_subset = ratings_df[\n",
    "    (ratings_df['userId'].isin(top_users)) & \n",
    "    (ratings_df['movieId'].isin(top_movies))\n",
    "].copy()\n",
    "\n",
    "print(f\"Original dataset: {ratings_df.shape[0]:,} ratings\")\n",
    "print(f\"Subset dataset: {ratings_subset.shape[0]:,} ratings\")\n",
    "print(f\"Subset users: {ratings_subset['userId'].nunique()}\")\n",
    "print(f\"Subset movies: {ratings_subset['movieId'].nunique()}\")\n",
    "print(f\"Subset matrix size: {ratings_subset['userId'].nunique() * ratings_subset['movieId'].nunique():,} cells\")"
   ]
  },
  {
   "cell_type": "markdown",
   "id": "802c67bd",
   "metadata": {},
   "source": [
    "## Create user-item ratings matrix\n",
    "Pivot ratings so rows are movieId and columns are userId."
   ]
  },
  {
   "cell_type": "code",
   "execution_count": 8,
   "id": "7460a616",
   "metadata": {},
   "outputs": [
    {
     "name": "stdout",
     "output_type": "stream",
     "text": [
      "Ratings matrix shape: (22000, 22000)\n",
      "Memory usage: 3692.79 MB\n",
      "\n",
      "First 5x5 sample:\n",
      "movieId    1    2    3    4    5\n",
      "userId                          \n",
      "22       0.0  0.0  0.0  0.0  0.0\n",
      "24       4.5  0.0  0.0  0.0  0.0\n",
      "30       0.0  0.0  0.0  0.0  0.0\n",
      "44       3.5  0.0  0.0  0.0  0.0\n",
      "53       3.5  0.0  0.0  0.0  0.0\n"
     ]
    }
   ],
   "source": [
    "# Create user-item ratings matrix using the subset\n",
    "ratings_matrix = ratings_subset.pivot_table(\n",
    "    index='userId',\n",
    "    columns='movieId',\n",
    "    values='rating',\n",
    "    fill_value=0\n",
    ")\n",
    "ratings_matrix = ratings_matrix.sort_index().sort_index(axis=1)\n",
    "print(f\"Ratings matrix shape: {ratings_matrix.shape}\")\n",
    "print(f\"Memory usage: {ratings_matrix.memory_usage(deep=True).sum() / 1024**2:.2f} MB\")\n",
    "print(\"\\nFirst 5x5 sample:\")\n",
    "print(ratings_matrix.iloc[:5, :5])"
   ]
  },
  {
   "cell_type": "code",
   "execution_count": null,
   "id": "e24f4379",
   "metadata": {},
   "outputs": [],
   "source": [
    "from sklearn.metrics.pairwise import cosine_similarity\n",
    "import pandas as pd\n",
    "\n",
    "user_similarity = cosine_similarity(ratings_matrix)\n",
    "userIds = ratings_matrix.index.tolist()\n",
    "\n",
    "user_similarity_df = pd.DataFrame(user_similarity,\n",
    "                                  index=userIds,\n",
    "                                  columns=userIds)\n",
    "\n",
    "print(user_similarity_df)"
   ]
  },
  {
   "cell_type": "code",
   "execution_count": 23,
   "id": "6052c3c8",
   "metadata": {},
   "outputs": [
    {
     "name": "stdout",
     "output_type": "stream",
     "text": [
      "[2571, 296, 318, 260, 1198]\n"
     ]
    }
   ],
   "source": [
    "from recsys.recommendation import CF_cosine_recommender\n",
    "recommended_items = CF_cosine_recommender(149, user_similarity_df, ratings_matrix)\n",
    "print(recommended_items)"
   ]
  }
 ],
 "metadata": {
  "kernelspec": {
   "display_name": ".venv (3.12.11)",
   "language": "python",
   "name": "python3"
  },
  "language_info": {
   "codemirror_mode": {
    "name": "ipython",
    "version": 3
   },
   "file_extension": ".py",
   "mimetype": "text/x-python",
   "name": "python",
   "nbconvert_exporter": "python",
   "pygments_lexer": "ipython3",
   "version": "3.12.11"
  }
 },
 "nbformat": 4,
 "nbformat_minor": 5
}
