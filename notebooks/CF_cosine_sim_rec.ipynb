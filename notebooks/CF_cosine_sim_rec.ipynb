{
 "cells": [
  {
   "cell_type": "code",
   "execution_count": 24,
   "id": "c047efaa",
   "metadata": {},
   "outputs": [
    {
     "name": "stdout",
     "output_type": "stream",
     "text": [
      "Reloaded modules: ['recsys.utils.files', 'recsys.utils', 'recsys', 'recsys.recommendation.recommend', 'recsys.recommendation']\n"
     ]
    }
   ],
   "source": [
    "# Use this cell when you modify the recsys package and need to reload it\n",
    "import importlib\n",
    "import sys\n",
    "\n",
    "# Reload the recsys modules\n",
    "modules_to_reload = []\n",
    "for module_name in sys.modules.keys():\n",
    "    if module_name.startswith('recsys'):\n",
    "        modules_to_reload.append(module_name)\n",
    "\n",
    "if modules_to_reload:\n",
    "    # Reload in reverse order to handle dependencies\n",
    "    for module_name in reversed(sorted(modules_to_reload)):\n",
    "        importlib.reload(sys.modules[module_name])\n",
    "    print(f\"Reloaded modules: {modules_to_reload}\")\n",
    "else:\n",
    "    print(\"No recsys modules found to reload\")"
   ]
  },
  {
   "cell_type": "markdown",
   "id": "61c05d4f",
   "metadata": {},
   "source": [
    "# Collaborative Filtering using Cosine similarity\n"
   ]
  },
  {
   "cell_type": "markdown",
   "id": "241fc903",
   "metadata": {},
   "source": [
    "# Importing required packages\n",
    "We start off by defining our root project entry point"
   ]
  },
  {
   "cell_type": "code",
   "execution_count": 25,
   "id": "826e9751",
   "metadata": {},
   "outputs": [],
   "source": [
    "import sys\n",
    "from pathlib import Path\n",
    "project_root = Path(\"..\").resolve()\n",
    "if str(project_root / \"src\") not in sys.path:\n",
    "    sys.path.append(str(project_root / \"src\"))"
   ]
  },
  {
   "cell_type": "markdown",
   "id": "996531e2",
   "metadata": {},
   "source": [
    "This next code snippet unzips the .zip file in \"data/raw\" and saves it in \"data/processed\" folders respectively"
   ]
  },
  {
   "cell_type": "code",
   "execution_count": 26,
   "id": "4c73679b",
   "metadata": {},
   "outputs": [
    {
     "data": {
      "text/plain": [
       "PosixPath('/Users/tonyli/Documents/Projects/craftyverse/craftyverse-recsys/data/processed')"
      ]
     },
     "execution_count": 26,
     "metadata": {},
     "output_type": "execute_result"
    }
   ],
   "source": [
    "from recsys.utils import unzip_file\n",
    "zip_path = project_root / \"data\" / \"raw\" / \"ml-latest.zip\"\n",
    "destination = project_root / \"data\" / \"processed\"\n",
    "\n",
    "unzip_file(zip_path, destination, overwrite=True)"
   ]
  },
  {
   "cell_type": "code",
   "execution_count": 27,
   "id": "1f58218a",
   "metadata": {},
   "outputs": [
    {
     "name": "stdout",
     "output_type": "stream",
     "text": [
      "   userId  movieId  rating   timestamp\n",
      "0       1        1     4.0  1225734739\n",
      "1       1      110     4.0  1225865086\n",
      "2       1      158     4.0  1225733503\n",
      "3       1      260     4.5  1225735204\n",
      "4       1      356     5.0  1225735119\n"
     ]
    }
   ],
   "source": [
    "\n",
    "from recsys.utils import read_csv\n",
    "csv_path = project_root / \"data\" /\"processed\" / \"ml-latest\" / \"ratings.csv\"\n",
    "\n",
    "ratings_df = read_csv(csv_path)\n",
    "print(ratings_df.head())\n",
    "\n"
   ]
  },
  {
   "cell_type": "code",
   "execution_count": 28,
   "id": "8e076b77",
   "metadata": {},
   "outputs": [
    {
     "name": "stdout",
     "output_type": "stream",
     "text": [
      "Dataset shape: (33832162, 4)\n",
      "Number of unique users: 330975\n",
      "Number of unique movies: 83239\n",
      "Potential matrix size: 27,550,028,025 cells\n",
      "Data sparsity: 0.12%\n"
     ]
    }
   ],
   "source": [
    "# Let's examine the data size first\n",
    "print(f\"Dataset shape: {ratings_df.shape}\")\n",
    "print(f\"Number of unique users: {ratings_df['userId'].nunique()}\")\n",
    "print(f\"Number of unique movies: {ratings_df['movieId'].nunique()}\")\n",
    "print(f\"Potential matrix size: {ratings_df['userId'].nunique() * ratings_df['movieId'].nunique():,} cells\")\n",
    "print(f\"Data sparsity: {len(ratings_df) / (ratings_df['userId'].nunique() * ratings_df['movieId'].nunique()) * 100:.2f}%\")"
   ]
  },
  {
   "cell_type": "code",
   "execution_count": 29,
   "id": "0058cb17",
   "metadata": {},
   "outputs": [
    {
     "name": "stdout",
     "output_type": "stream",
     "text": [
      "Original dataset: 33,832,162 ratings\n",
      "Subset dataset: 11,062,067 ratings\n",
      "Subset users: 12000\n",
      "Subset movies: 12000\n",
      "Subset matrix size: 144,000,000 cells\n"
     ]
    }
   ],
   "source": [
    "# Create a smaller subset for testing - top N users and movies by rating count\n",
    "top_n = 12000  # Adjust this number based on your needs\n",
    "\n",
    "# Get top users by number of ratings\n",
    "top_users = ratings_df['userId'].value_counts().head(top_n).index\n",
    "# Get top movies by number of ratings  \n",
    "top_movies = ratings_df['movieId'].value_counts().head(top_n).index\n",
    "\n",
    "# Filter the dataset to only include top users and movies\n",
    "ratings_subset = ratings_df[\n",
    "    (ratings_df['userId'].isin(top_users)) & \n",
    "    (ratings_df['movieId'].isin(top_movies))\n",
    "].copy()\n",
    "\n",
    "print(f\"Original dataset: {ratings_df.shape[0]:,} ratings\")\n",
    "print(f\"Subset dataset: {ratings_subset.shape[0]:,} ratings\")\n",
    "print(f\"Subset users: {ratings_subset['userId'].nunique()}\")\n",
    "print(f\"Subset movies: {ratings_subset['movieId'].nunique()}\")\n",
    "print(f\"Subset matrix size: {ratings_subset['userId'].nunique() * ratings_subset['movieId'].nunique():,} cells\")"
   ]
  },
  {
   "cell_type": "markdown",
   "id": "802c67bd",
   "metadata": {},
   "source": [
    "## Create user-item ratings matrix\n",
    "Pivot ratings so rows are movieId and columns are userId."
   ]
  },
  {
   "cell_type": "code",
   "execution_count": 30,
   "id": "7460a616",
   "metadata": {},
   "outputs": [
    {
     "name": "stdout",
     "output_type": "stream",
     "text": [
      "Ratings matrix shape: (12000, 12000)\n",
      "Memory usage: 1098.72 MB\n",
      "\n",
      "First 5x5 sample:\n",
      "movieId    1    2    3    4    5\n",
      "userId                          \n",
      "137      0.0  0.0  0.0  0.0  0.0\n",
      "149      4.0  2.5  0.5  0.0  2.5\n",
      "198      3.0  3.0  0.0  0.0  2.5\n",
      "224      3.0  0.0  0.0  0.0  3.5\n",
      "227      5.0  2.0  0.0  0.0  0.0\n"
     ]
    }
   ],
   "source": [
    "# Create user-item ratings matrix using the subset\n",
    "ratings_matrix = ratings_subset.pivot_table(\n",
    "    index='userId',\n",
    "    columns='movieId',\n",
    "    values='rating',\n",
    "    fill_value=0\n",
    ")\n",
    "ratings_matrix = ratings_matrix.sort_index().sort_index(axis=1)\n",
    "print(f\"Ratings matrix shape: {ratings_matrix.shape}\")\n",
    "print(f\"Memory usage: {ratings_matrix.memory_usage(deep=True).sum() / 1024**2:.2f} MB\")\n",
    "print(\"\\nFirst 5x5 sample:\")\n",
    "print(ratings_matrix.iloc[:5, :5])"
   ]
  },
  {
   "cell_type": "code",
   "execution_count": 22,
   "id": "e24f4379",
   "metadata": {},
   "outputs": [
    {
     "name": "stdout",
     "output_type": "stream",
     "text": [
      "          137       149       198       224       227       301       305     \\\n",
      "137     1.000000  0.154513  0.331817  0.156370  0.242769  0.352272  0.405558   \n",
      "149     0.154513  1.000000  0.294775  0.385640  0.397169  0.173711  0.210141   \n",
      "198     0.331817  0.294775  1.000000  0.208548  0.373679  0.332980  0.380498   \n",
      "224     0.156370  0.385640  0.208548  1.000000  0.358920  0.197721  0.196771   \n",
      "227     0.242769  0.397169  0.373679  0.358920  1.000000  0.270359  0.343843   \n",
      "...          ...       ...       ...       ...       ...       ...       ...   \n",
      "330908  0.115712  0.342461  0.297200  0.328133  0.400727  0.152626  0.200407   \n",
      "330911  0.148313  0.350751  0.237962  0.312723  0.357592  0.215651  0.256676   \n",
      "330912  0.227476  0.361288  0.365344  0.329799  0.506056  0.251311  0.333187   \n",
      "330914  0.306218  0.152192  0.428528  0.126765  0.229627  0.298803  0.292719   \n",
      "330917  0.238371  0.319598  0.329263  0.308123  0.366889  0.262805  0.324464   \n",
      "\n",
      "          389       418       440     ...    330842    330850    330853  \\\n",
      "137     0.188900  0.160324  0.206747  ...  0.357725  0.233636  0.363873   \n",
      "149     0.168632  0.148453  0.295980  ...  0.228342  0.199467  0.228555   \n",
      "198     0.263145  0.344499  0.372201  ...  0.513010  0.343177  0.429286   \n",
      "224     0.089836  0.126527  0.211125  ...  0.144069  0.123064  0.229127   \n",
      "227     0.204934  0.205657  0.379526  ...  0.310605  0.249924  0.327104   \n",
      "...          ...       ...       ...  ...       ...       ...       ...   \n",
      "330908  0.147103  0.145646  0.249142  ...  0.225958  0.142235  0.240781   \n",
      "330911  0.169933  0.099694  0.181479  ...  0.155623  0.101466  0.189514   \n",
      "330912  0.231227  0.168640  0.338537  ...  0.307454  0.242322  0.308424   \n",
      "330914  0.155014  0.301299  0.261176  ...  0.446242  0.334332  0.329557   \n",
      "330917  0.149721  0.278866  0.220735  ...  0.259072  0.131039  0.235055   \n",
      "\n",
      "          330869    330884    330908    330911    330912    330914    330917  \n",
      "137     0.347216  0.373068  0.115712  0.148313  0.227476  0.306218  0.238371  \n",
      "149     0.254330  0.251253  0.342461  0.350751  0.361288  0.152192  0.319598  \n",
      "198     0.419736  0.361961  0.297200  0.237962  0.365344  0.428528  0.329263  \n",
      "224     0.182923  0.239773  0.328133  0.312723  0.329799  0.126765  0.308123  \n",
      "227     0.335132  0.373285  0.400727  0.357592  0.506056  0.229627  0.366889  \n",
      "...          ...       ...       ...       ...       ...       ...       ...  \n",
      "330908  0.223018  0.216363  1.000000  0.291574  0.320573  0.138596  0.295508  \n",
      "330911  0.227324  0.232612  0.291574  1.000000  0.350602  0.137166  0.304226  \n",
      "330912  0.305382  0.344422  0.320573  0.350602  1.000000  0.208215  0.326062  \n",
      "330914  0.363486  0.316566  0.138596  0.137166  0.208215  1.000000  0.226142  \n",
      "330917  0.294023  0.302974  0.295508  0.304226  0.326062  0.226142  1.000000  \n",
      "\n",
      "[12000 rows x 12000 columns]\n"
     ]
    }
   ],
   "source": [
    "from sklearn.metrics.pairwise import cosine_similarity\n",
    "import pandas as pd\n",
    "\n",
    "user_similarity = cosine_similarity(ratings_matrix)\n",
    "userIds = ratings_matrix.index.tolist()\n",
    "\n",
    "user_similarity_df = pd.DataFrame(user_similarity,\n",
    "                                  index=userIds,\n",
    "                                  columns=userIds)\n",
    "\n",
    "print(user_similarity_df)"
   ]
  },
  {
   "cell_type": "code",
   "execution_count": 23,
   "id": "6052c3c8",
   "metadata": {},
   "outputs": [
    {
     "name": "stdout",
     "output_type": "stream",
     "text": [
      "[2571, 296, 318, 260, 1198]\n"
     ]
    }
   ],
   "source": [
    "from recsys.recommendation import CF_cosine_recommender\n",
    "recommended_items = CF_cosine_recommender(149, user_similarity_df, ratings_matrix)\n",
    "print(recommended_items)"
   ]
  }
 ],
 "metadata": {
  "kernelspec": {
   "display_name": ".venv (3.12)",
   "language": "python",
   "name": "craftyverse-py312"
  },
  "language_info": {
   "codemirror_mode": {
    "name": "ipython",
    "version": 3
   },
   "file_extension": ".py",
   "mimetype": "text/x-python",
   "name": "python",
   "nbconvert_exporter": "python",
   "pygments_lexer": "ipython3",
   "version": "3.12.11"
  }
 },
 "nbformat": 4,
 "nbformat_minor": 5
}
