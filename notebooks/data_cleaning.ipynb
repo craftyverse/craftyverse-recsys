{
 "cells": [
  {
   "cell_type": "code",
   "execution_count": 15,
   "id": "c047efaa",
   "metadata": {},
   "outputs": [
    {
     "name": "stdout",
     "output_type": "stream",
     "text": [
      "Modules reloaded successfully\n"
     ]
    }
   ],
   "source": [
    "# Use this cell when you modify the recsys package and need to reload it\n",
    "import importlib\n",
    "import sys\n",
    "\n",
    "# Reload the recsys modules\n",
    "if 'recsys' in sys.modules:\n",
    "    importlib.reload(sys.modules['recsys.utils.files'])\n",
    "    importlib.reload(sys.modules['recsys.utils'])\n",
    "    print(\"Modules reloaded successfully\")\n",
    "else:\n",
    "    print(\"Modules not yet loaded\")"
   ]
  },
  {
   "cell_type": "markdown",
   "id": "61c05d4f",
   "metadata": {},
   "source": [
    "# Collaborative Filtering using Cosine similarity\n"
   ]
  },
  {
   "cell_type": "markdown",
   "id": "241fc903",
   "metadata": {},
   "source": [
    "# Importing required packages\n",
    "We start off by defining our root project entry point"
   ]
  },
  {
   "cell_type": "code",
   "execution_count": 16,
   "id": "826e9751",
   "metadata": {},
   "outputs": [],
   "source": [
    "import sys\n",
    "from pathlib import Path\n",
    "project_root = Path(\"..\").resolve()\n",
    "if str(project_root / \"src\") not in sys.path:\n",
    "    sys.path.append(str(project_root / \"src\"))"
   ]
  },
  {
   "cell_type": "markdown",
   "id": "996531e2",
   "metadata": {},
   "source": [
    "This next code snippet unzips the .zip file in \"data/raw\" and saves it in \"data/processed\" folders respectively"
   ]
  },
  {
   "cell_type": "code",
   "execution_count": 17,
   "id": "4c73679b",
   "metadata": {},
   "outputs": [
    {
     "data": {
      "text/plain": [
       "PosixPath('/Users/tonyli/Documents/Projects/craftyverse/craftyverse-recsys/data/processed')"
      ]
     },
     "execution_count": 17,
     "metadata": {},
     "output_type": "execute_result"
    }
   ],
   "source": [
    "from recsys.utils import unzip_file\n",
    "zip_path = project_root / \"data\" / \"raw\" / \"ml-latest-small.zip\"\n",
    "destination = project_root / \"data\" / \"processed\"\n",
    "\n",
    "unzip_file(zip_path, destination, overwrite=True)"
   ]
  },
  {
   "cell_type": "code",
   "execution_count": 18,
   "id": "1f58218a",
   "metadata": {},
   "outputs": [
    {
     "name": "stdout",
     "output_type": "stream",
     "text": [
      "   userId  movieId  rating  timestamp\n",
      "0       1        1     4.0  964982703\n",
      "1       1        3     4.0  964981247\n",
      "2       1        6     4.0  964982224\n",
      "3       1       47     5.0  964983815\n",
      "4       1       50     5.0  964982931\n"
     ]
    }
   ],
   "source": [
    "\n",
    "from recsys.utils import read_csv\n",
    "csv_path = project_root / \"data\" /\"processed\" / \"ml-latest-small\" / \"ratings.csv\"\n",
    "\n",
    "ratings_df = read_csv(csv_path)\n",
    "print(ratings_df.head())\n",
    "\n"
   ]
  },
  {
   "cell_type": "markdown",
   "id": "802c67bd",
   "metadata": {},
   "source": [
    "## Create user-item ratings matrix\n",
    "Pivot ratings so rows are movieId and columns are userId."
   ]
  },
  {
   "cell_type": "code",
   "execution_count": 19,
   "id": "7460a616",
   "metadata": {},
   "outputs": [
    {
     "name": "stdout",
     "output_type": "stream",
     "text": [
      "movieId  1       2       3       4       5       6       7       8       \\\n",
      "userId                                                                    \n",
      "1           4.0     0.0     4.0     0.0     0.0     4.0     0.0     0.0   \n",
      "2           0.0     0.0     0.0     0.0     0.0     0.0     0.0     0.0   \n",
      "3           0.0     0.0     0.0     0.0     0.0     0.0     0.0     0.0   \n",
      "4           0.0     0.0     0.0     0.0     0.0     0.0     0.0     0.0   \n",
      "5           4.0     0.0     0.0     0.0     0.0     0.0     0.0     0.0   \n",
      "...         ...     ...     ...     ...     ...     ...     ...     ...   \n",
      "606         2.5     0.0     0.0     0.0     0.0     0.0     2.5     0.0   \n",
      "607         4.0     0.0     0.0     0.0     0.0     0.0     0.0     0.0   \n",
      "608         2.5     2.0     2.0     0.0     0.0     0.0     0.0     0.0   \n",
      "609         3.0     0.0     0.0     0.0     0.0     0.0     0.0     0.0   \n",
      "610         5.0     0.0     0.0     0.0     0.0     5.0     0.0     0.0   \n",
      "\n",
      "movieId  9       10      ...  193565  193567  193571  193573  193579  193581  \\\n",
      "userId                   ...                                                   \n",
      "1           0.0     0.0  ...     0.0     0.0     0.0     0.0     0.0     0.0   \n",
      "2           0.0     0.0  ...     0.0     0.0     0.0     0.0     0.0     0.0   \n",
      "3           0.0     0.0  ...     0.0     0.0     0.0     0.0     0.0     0.0   \n",
      "4           0.0     0.0  ...     0.0     0.0     0.0     0.0     0.0     0.0   \n",
      "5           0.0     0.0  ...     0.0     0.0     0.0     0.0     0.0     0.0   \n",
      "...         ...     ...  ...     ...     ...     ...     ...     ...     ...   \n",
      "606         0.0     0.0  ...     0.0     0.0     0.0     0.0     0.0     0.0   \n",
      "607         0.0     0.0  ...     0.0     0.0     0.0     0.0     0.0     0.0   \n",
      "608         0.0     4.0  ...     0.0     0.0     0.0     0.0     0.0     0.0   \n",
      "609         0.0     4.0  ...     0.0     0.0     0.0     0.0     0.0     0.0   \n",
      "610         0.0     0.0  ...     0.0     0.0     0.0     0.0     0.0     0.0   \n",
      "\n",
      "movieId  193583  193585  193587  193609  \n",
      "userId                                   \n",
      "1           0.0     0.0     0.0     0.0  \n",
      "2           0.0     0.0     0.0     0.0  \n",
      "3           0.0     0.0     0.0     0.0  \n",
      "4           0.0     0.0     0.0     0.0  \n",
      "5           0.0     0.0     0.0     0.0  \n",
      "...         ...     ...     ...     ...  \n",
      "606         0.0     0.0     0.0     0.0  \n",
      "607         0.0     0.0     0.0     0.0  \n",
      "608         0.0     0.0     0.0     0.0  \n",
      "609         0.0     0.0     0.0     0.0  \n",
      "610         0.0     0.0     0.0     0.0  \n",
      "\n",
      "[610 rows x 9724 columns]\n"
     ]
    }
   ],
   "source": [
    "ratings_matrix = ratings_df.pivot_table(\n",
    "    index='userId',\n",
    "    columns='movieId',\n",
    "    values='rating',\n",
    "    fill_value=0\n",
    ")\n",
    "ratings_matrix = ratings_matrix.sort_index().sort_index(axis=1)\n",
    "print(ratings_matrix)\n"
   ]
  },
  {
   "cell_type": "code",
   "execution_count": 20,
   "id": "e24f4379",
   "metadata": {},
   "outputs": [
    {
     "name": "stdout",
     "output_type": "stream",
     "text": [
      "          1         2         3         4         5         6         7    \\\n",
      "1    1.000000  0.027283  0.059720  0.194395  0.129080  0.128152  0.158744   \n",
      "2    0.027283  1.000000  0.000000  0.003726  0.016614  0.025333  0.027585   \n",
      "3    0.059720  0.000000  1.000000  0.002251  0.005020  0.003936  0.000000   \n",
      "4    0.194395  0.003726  0.002251  1.000000  0.128659  0.088491  0.115120   \n",
      "5    0.129080  0.016614  0.005020  0.128659  1.000000  0.300349  0.108342   \n",
      "..        ...       ...       ...       ...       ...       ...       ...   \n",
      "606  0.164191  0.028429  0.012993  0.200395  0.106435  0.102123  0.200035   \n",
      "607  0.269389  0.012948  0.019247  0.131746  0.152866  0.162182  0.186114   \n",
      "608  0.291097  0.046211  0.021128  0.149858  0.135535  0.178809  0.323541   \n",
      "609  0.093572  0.027565  0.000000  0.032198  0.261232  0.214234  0.090840   \n",
      "610  0.145321  0.102427  0.032119  0.107683  0.060792  0.052668  0.193219   \n",
      "\n",
      "          8         9         10   ...       601       602       603  \\\n",
      "1    0.136968  0.064263  0.016875  ...  0.080554  0.164455  0.221486   \n",
      "2    0.027257  0.000000  0.067445  ...  0.202671  0.016866  0.011997   \n",
      "3    0.004941  0.000000  0.000000  ...  0.005048  0.004892  0.024992   \n",
      "4    0.062969  0.011361  0.031163  ...  0.085938  0.128273  0.307973   \n",
      "5    0.429075  0.000000  0.030611  ...  0.068048  0.418747  0.110148   \n",
      "..        ...       ...       ...  ...       ...       ...       ...   \n",
      "606  0.099388  0.075898  0.088963  ...  0.178084  0.116534  0.300669   \n",
      "607  0.185142  0.011844  0.010451  ...  0.092525  0.199910  0.203540   \n",
      "608  0.187233  0.100435  0.077424  ...  0.158355  0.197514  0.232771   \n",
      "609  0.423993  0.000000  0.021766  ...  0.035653  0.335231  0.061941   \n",
      "610  0.078153  0.074399  0.121072  ...  0.222491  0.087528  0.163094   \n",
      "\n",
      "          604       605       606       607       608       609       610  \n",
      "1    0.070669  0.153625  0.164191  0.269389  0.291097  0.093572  0.145321  \n",
      "2    0.000000  0.000000  0.028429  0.012948  0.046211  0.027565  0.102427  \n",
      "3    0.000000  0.010694  0.012993  0.019247  0.021128  0.000000  0.032119  \n",
      "4    0.052985  0.084584  0.200395  0.131746  0.149858  0.032198  0.107683  \n",
      "5    0.258773  0.148758  0.106435  0.152866  0.135535  0.261232  0.060792  \n",
      "..        ...       ...       ...       ...       ...       ...       ...  \n",
      "606  0.066032  0.148141  1.000000  0.153063  0.262558  0.069622  0.201104  \n",
      "607  0.137834  0.118780  0.153063  1.000000  0.283081  0.149190  0.139114  \n",
      "608  0.155306  0.178142  0.262558  0.283081  1.000000  0.121993  0.322055  \n",
      "609  0.236601  0.097610  0.069622  0.149190  0.121993  1.000000  0.053225  \n",
      "610  0.052552  0.119295  0.201104  0.139114  0.322055  0.053225  1.000000  \n",
      "\n",
      "[610 rows x 610 columns]\n"
     ]
    }
   ],
   "source": [
    "from sklearn.metrics.pairwise import cosine_similarity\n",
    "import pandas as pd\n",
    "\n",
    "user_similarity = cosine_similarity(ratings_matrix)\n",
    "userIds = ratings_matrix.index.tolist()\n",
    "\n",
    "user_similarity_df = pd.DataFrame(user_similarity,\n",
    "                                  index=userIds,\n",
    "                                  columns=userIds)\n",
    "\n",
    "print(user_similarity_df)"
   ]
  },
  {
   "cell_type": "code",
   "execution_count": 22,
   "id": "6052c3c8",
   "metadata": {},
   "outputs": [
    {
     "name": "stdout",
     "output_type": "stream",
     "text": [
      "[356, 296, 318, 2571, 260]\n"
     ]
    }
   ],
   "source": [
    "from recsys.recommendation import CF_cosine_recommender\n",
    "recommended_items = CF_cosine_recommender(1, user_similarity_df, ratings_matrix)\n",
    "print(recommended_items)"
   ]
  }
 ],
 "metadata": {
  "kernelspec": {
   "display_name": ".venv (3.13.5)",
   "language": "python",
   "name": "python3"
  },
  "language_info": {
   "codemirror_mode": {
    "name": "ipython",
    "version": 3
   },
   "file_extension": ".py",
   "mimetype": "text/x-python",
   "name": "python",
   "nbconvert_exporter": "python",
   "pygments_lexer": "ipython3",
   "version": "3.13.5"
  }
 },
 "nbformat": 4,
 "nbformat_minor": 5
}
